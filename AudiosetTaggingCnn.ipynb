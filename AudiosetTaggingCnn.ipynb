{
  "nbformat": 4,
  "nbformat_minor": 0,
  "metadata": {
    "accelerator": "GPU",
    "colab": {
      "name": "AudiosetTaggingCnn.ipynb",
      "provenance": [],
      "collapsed_sections": []
    },
    "kernelspec": {
      "display_name": "Python 3",
      "name": "python3"
    },
    "language_info": {
      "name": "python"
    }
  },
  "cells": [
    {
      "cell_type": "markdown",
      "metadata": {
        "id": "mmD0cqW2YKAh"
      },
      "source": [
        "Initializing"
      ]
    },
    {
      "cell_type": "code",
      "metadata": {
        "id": "PNrSvJM1QACg"
      },
      "source": [
        "!git clone https://github.com/qiuqiangkong/audioset_tagging_cnn.git\n",
        "%cd audioset_tagging_cnn"
      ],
      "execution_count": null,
      "outputs": []
    },
    {
      "cell_type": "markdown",
      "metadata": {
        "id": "qZmZblGxOatR"
      },
      "source": [
        "Install required packages"
      ]
    },
    {
      "cell_type": "code",
      "metadata": {
        "id": "oXF6WP0OXB-8"
      },
      "source": [
        "!pip install torch\n",
        "!pip install torchlibrosa"
      ],
      "execution_count": null,
      "outputs": []
    },
    {
      "cell_type": "markdown",
      "metadata": {
        "id": "uofx7uOWhwnu"
      },
      "source": [
        "Download the dataset"
      ]
    },
    {
      "cell_type": "code",
      "metadata": {
        "id": "5ejNSipKeOjG"
      },
      "source": [
        "%env DATASET_DIR=./datasets/audioset201906\n",
        "%env WORKSPACE=./workspaces/audioset_tagging\n",
        "!mkdir -p $DATASET_DIR\"/metadata\"\n",
        "!wget -O $DATASET_DIR\"/metadata/eval_segments.csv\" http://storage.googleapis.com/us_audioset/youtube_corpus/v1/csv/eval_segments.csv\n",
        "!wget -O $DATASET_DIR\"/metadata/balanced_train_segments.csv\" http://storage.googleapis.com/us_audioset/youtube_corpus/v1/csv/balanced_train_segments.csv\n",
        "!wget -O $DATASET_DIR\"/metadata/class_labels_indices.csv\" http://storage.googleapis.com/us_audioset/youtube_corpus/v1/csv/class_labels_indices.csv\n",
        "!wget -O $DATASET_DIR\"/metadata/qa_true_counts.csv\" http://storage.googleapis.com/us_audioset/youtube_corpus/v1/qa/qa_true_counts.csv"
      ],
      "execution_count": null,
      "outputs": []
    },
    {
      "cell_type": "markdown",
      "metadata": {
        "id": "qvSmVuxPOCMt"
      },
      "source": [
        "Download and index balanced training dataset\n"
      ]
    },
    {
      "cell_type": "code",
      "metadata": {
        "id": "why5QWEyETQt"
      },
      "source": [
        "!python3 utils/dataset.py download_wavs --csv_path=$DATASET_DIR\"/metadata/eval_segments.csv\" --audios_dir=$DATASET_DIR\"/audios/eval_segments\"\n",
        "!python3 utils/dataset.py pack_waveforms_to_hdf5 --audios_dir=\"/content/audioset_tagging_cnn/datasets/audioset201906/audios/eval_segments\" --csv_path=\"/content/audioset_tagging_cnn/datasets/audioset201906/metadata/eval_segments.csv\" --waveforms_hdf5_path=$WORKSPACE\"/hdf5s/waveforms/eval.h5\" --mini_data\n",
        "!python3 utils/create_indexes.py create_indexes --waveforms_hdf5_path=$WORKSPACE\"/hdf5s/waveforms/eval.h5\" --indexes_hdf5_path=$WORKSPACE\"/hdf5s/indexes/eval.h5\""
      ],
      "execution_count": null,
      "outputs": []
    },
    {
      "cell_type": "markdown",
      "metadata": {
        "id": "wflwDeY0OGVz"
      },
      "source": [
        ""
      ]
    },
    {
      "cell_type": "code",
      "metadata": {
        "id": "40FsJLS2EwVw"
      },
      "source": [
        "!python3 utils/dataset.py download_wavs --csv_path=$DATASET_DIR\"/metadata/balanced_train_segments.csv\" --audios_dir=$DATASET_DIR\"/audios/balanced_train_segments\"\n",
        "!python3 utils/dataset.py pack_waveforms_to_hdf5 --audios_dir=\"/content/audioset_tagging_cnn/datasets/audioset201906/audios/balanced_train_segments\" --csv_path=\"/content/audioset_tagging_cnn/datasets/audioset201906/metadata/balanced_train_segments.csv\" --waveforms_hdf5_path=$WORKSPACE\"/hdf5s/waveforms/balanced_train.h5\"\n",
        "!python3 utils/create_indexes.py create_indexes --waveforms_hdf5_path=$WORKSPACE\"/hdf5s/waveforms/balanced_train.h5\" --indexes_hdf5_path=$WORKSPACE\"/hdf5s/indexes/balanced_train.h5\""
      ],
      "execution_count": null,
      "outputs": []
    },
    {
      "cell_type": "markdown",
      "metadata": {
        "id": "J9AwluN6OJjr"
      },
      "source": [
        "Train the model using balanced training dataset"
      ]
    },
    {
      "cell_type": "code",
      "metadata": {
        "id": "hSx9xsMFiFEr"
      },
      "source": [
        "%env WORKSPACE=./workspaces/audioset_tagging\n",
        "%env CUDA_VISIBLE_DEVICES=0 \n",
        "!python3 pytorch/main.py train --workspace=$WORKSPACE --data_type='balanced_train' --window_size=1024 --hop_size=320 --mel_bins=64 --fmin=50 --fmax=14000 --model_type='Cnn14' --loss_type='clip_bce' --balanced='balanced' --augmentation='mixup' --batch_size=32 --learning_rate=1e-3 --resume_iteration=0 --early_stop=1000000 --cuda"
      ],
      "execution_count": null,
      "outputs": []
    }
  ]
}